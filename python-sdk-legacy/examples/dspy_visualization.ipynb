{
  "cells": [
    {
      "cell_type": "markdown",
      "metadata": {},
      "source": [
        "# LangWatch DSPy Visualizer\n",
        "\n",
        "This notebook shows an example of a simple DSPy optimization process integrated with LangWatch for training visualization and debugging.\n",
        "\n",
        "[<img align=\"center\" src=\"https://colab.research.google.com/assets/colab-badge.svg\" />](https://colab.research.google.com/github/langwatch/langwatch/blob/main/python-sdk/examples/dspy_visualization.ipynb)"
      ]
    },
    {
      "cell_type": "code",
      "execution_count": 1,
      "metadata": {
        "id": "Pgy1Fjhh_lOB"
      },
      "outputs": [
        {
          "name": "stdout",
          "output_type": "stream",
          "text": [
            "Requirement already satisfied: dspy in /Users/rchaves/.pyenv/versions/3.11.6/lib/python3.11/site-packages (2.6.11)\n",
            "Requirement already satisfied: langwatch in /Users/rchaves/.pyenv/versions/3.11.6/lib/python3.11/site-packages (0.1.43)\n",
            "Requirement already satisfied: backoff in /Users/rchaves/.pyenv/versions/3.11.6/lib/python3.11/site-packages (from dspy) (2.2.1)\n",
            "Requirement already satisfied: joblib~=1.3 in /Users/rchaves/.pyenv/versions/3.11.6/lib/python3.11/site-packages (from dspy) (1.4.2)\n",
            "Requirement already satisfied: openai in /Users/rchaves/.pyenv/versions/3.11.6/lib/python3.11/site-packages (from dspy) (1.72.0)\n",
            "Requirement already satisfied: pandas in /Users/rchaves/.pyenv/versions/3.11.6/lib/python3.11/site-packages (from dspy) (2.2.3)\n",
            "Requirement already satisfied: regex in /Users/rchaves/.pyenv/versions/3.11.6/lib/python3.11/site-packages (from dspy) (2024.11.6)\n",
            "Requirement already satisfied: ujson in /Users/rchaves/.pyenv/versions/3.11.6/lib/python3.11/site-packages (from dspy) (5.10.0)\n",
            "Requirement already satisfied: tqdm in /Users/rchaves/.pyenv/versions/3.11.6/lib/python3.11/site-packages (from dspy) (4.67.1)\n",
            "Requirement already satisfied: datasets<3.0.0,>=2.14.6 in /Users/rchaves/.pyenv/versions/3.11.6/lib/python3.11/site-packages (from dspy) (2.14.6)\n",
            "Requirement already satisfied: requests in /Users/rchaves/.pyenv/versions/3.11.6/lib/python3.11/site-packages (from dspy) (2.32.3)\n",
            "Requirement already satisfied: optuna in /Users/rchaves/.pyenv/versions/3.11.6/lib/python3.11/site-packages (from dspy) (3.6.1)\n",
            "Requirement already satisfied: pydantic~=2.0 in /Users/rchaves/.pyenv/versions/3.11.6/lib/python3.11/site-packages (from dspy) (2.11.3)\n",
            "Requirement already satisfied: jinja2 in /Users/rchaves/.pyenv/versions/3.11.6/lib/python3.11/site-packages (from dspy) (3.1.6)\n",
            "Requirement already satisfied: magicattr~=0.1.6 in /Users/rchaves/.pyenv/versions/3.11.6/lib/python3.11/site-packages (from dspy) (0.1.6)\n",
            "Requirement already satisfied: litellm<2.0.0,>=1.59.8 in /Users/rchaves/.pyenv/versions/3.11.6/lib/python3.11/site-packages (from dspy) (1.65.4.post1)\n",
            "Requirement already satisfied: diskcache in /Users/rchaves/.pyenv/versions/3.11.6/lib/python3.11/site-packages (from dspy) (5.6.3)\n",
            "Requirement already satisfied: json-repair in /Users/rchaves/.pyenv/versions/3.11.6/lib/python3.11/site-packages (from dspy) (0.40.0)\n",
            "Requirement already satisfied: tenacity>=8.2.3 in /Users/rchaves/.pyenv/versions/3.11.6/lib/python3.11/site-packages (from dspy) (8.5.0)\n",
            "Requirement already satisfied: anyio in /Users/rchaves/.pyenv/versions/3.11.6/lib/python3.11/site-packages (from dspy) (4.9.0)\n",
            "Requirement already satisfied: asyncer==0.0.8 in /Users/rchaves/.pyenv/versions/3.11.6/lib/python3.11/site-packages (from dspy) (0.0.8)\n",
            "Requirement already satisfied: cachetools in /Users/rchaves/.pyenv/versions/3.11.6/lib/python3.11/site-packages (from dspy) (5.5.2)\n",
            "Requirement already satisfied: cloudpickle in /Users/rchaves/.pyenv/versions/3.11.6/lib/python3.11/site-packages (from dspy) (3.1.1)\n",
            "Requirement already satisfied: coolname<3.0.0,>=2.2.0 in /Users/rchaves/.pyenv/versions/3.11.6/lib/python3.11/site-packages (from langwatch) (2.2.0)\n",
            "Requirement already satisfied: deprecated<2.0.0,>=1.2.14 in /Users/rchaves/.pyenv/versions/3.11.6/lib/python3.11/site-packages (from langwatch) (1.2.14)\n",
            "Requirement already satisfied: httpx<0.28.0,>=0.27.0 in /Users/rchaves/.pyenv/versions/3.11.6/lib/python3.11/site-packages (from langwatch) (0.27.2)\n",
            "Requirement already satisfied: nanoid<3.0.0,>=2.0.0 in /Users/rchaves/.pyenv/versions/3.11.6/lib/python3.11/site-packages (from langwatch) (2.0.0)\n",
            "Requirement already satisfied: retry<0.10.0,>=0.9.2 in /Users/rchaves/.pyenv/versions/3.11.6/lib/python3.11/site-packages (from langwatch) (0.9.2)\n",
            "Requirement already satisfied: idna>=2.8 in /Users/rchaves/.pyenv/versions/3.11.6/lib/python3.11/site-packages (from anyio->dspy) (3.10)\n",
            "Requirement already satisfied: sniffio>=1.1 in /Users/rchaves/.pyenv/versions/3.11.6/lib/python3.11/site-packages (from anyio->dspy) (1.3.1)\n",
            "Requirement already satisfied: typing_extensions>=4.5 in /Users/rchaves/.pyenv/versions/3.11.6/lib/python3.11/site-packages (from anyio->dspy) (4.13.1)\n",
            "Requirement already satisfied: numpy>=1.17 in /Users/rchaves/.pyenv/versions/3.11.6/lib/python3.11/site-packages (from datasets<3.0.0,>=2.14.6->dspy) (2.0.2)\n",
            "Requirement already satisfied: pyarrow>=8.0.0 in /Users/rchaves/.pyenv/versions/3.11.6/lib/python3.11/site-packages (from datasets<3.0.0,>=2.14.6->dspy) (16.0.0)\n",
            "Requirement already satisfied: dill<0.3.8,>=0.3.0 in /Users/rchaves/.pyenv/versions/3.11.6/lib/python3.11/site-packages (from datasets<3.0.0,>=2.14.6->dspy) (0.3.7)\n",
            "Requirement already satisfied: xxhash in /Users/rchaves/.pyenv/versions/3.11.6/lib/python3.11/site-packages (from datasets<3.0.0,>=2.14.6->dspy) (3.4.1)\n",
            "Requirement already satisfied: multiprocess in /Users/rchaves/.pyenv/versions/3.11.6/lib/python3.11/site-packages (from datasets<3.0.0,>=2.14.6->dspy) (0.70.15)\n",
            "Requirement already satisfied: fsspec<=2023.10.0,>=2023.1.0 in /Users/rchaves/.pyenv/versions/3.11.6/lib/python3.11/site-packages (from fsspec[http]<=2023.10.0,>=2023.1.0->datasets<3.0.0,>=2.14.6->dspy) (2023.10.0)\n",
            "Requirement already satisfied: aiohttp in /Users/rchaves/.pyenv/versions/3.11.6/lib/python3.11/site-packages (from datasets<3.0.0,>=2.14.6->dspy) (3.11.16)\n",
            "Requirement already satisfied: huggingface-hub<1.0.0,>=0.14.0 in /Users/rchaves/.pyenv/versions/3.11.6/lib/python3.11/site-packages (from datasets<3.0.0,>=2.14.6->dspy) (0.30.2)\n",
            "Requirement already satisfied: packaging in /Users/rchaves/.pyenv/versions/3.11.6/lib/python3.11/site-packages (from datasets<3.0.0,>=2.14.6->dspy) (24.2)\n",
            "Requirement already satisfied: pyyaml>=5.1 in /Users/rchaves/.pyenv/versions/3.11.6/lib/python3.11/site-packages (from datasets<3.0.0,>=2.14.6->dspy) (6.0.2)\n",
            "Requirement already satisfied: wrapt<2,>=1.10 in /Users/rchaves/.pyenv/versions/3.11.6/lib/python3.11/site-packages (from deprecated<2.0.0,>=1.2.14->langwatch) (1.17.2)\n",
            "Requirement already satisfied: certifi in /Users/rchaves/.pyenv/versions/3.11.6/lib/python3.11/site-packages (from httpx<0.28.0,>=0.27.0->langwatch) (2025.1.31)\n",
            "Requirement already satisfied: httpcore==1.* in /Users/rchaves/.pyenv/versions/3.11.6/lib/python3.11/site-packages (from httpx<0.28.0,>=0.27.0->langwatch) (1.0.7)\n",
            "Requirement already satisfied: h11<0.15,>=0.13 in /Users/rchaves/.pyenv/versions/3.11.6/lib/python3.11/site-packages (from httpcore==1.*->httpx<0.28.0,>=0.27.0->langwatch) (0.14.0)\n",
            "Requirement already satisfied: click in /Users/rchaves/.pyenv/versions/3.11.6/lib/python3.11/site-packages (from litellm<2.0.0,>=1.59.8->dspy) (8.1.8)\n",
            "Requirement already satisfied: importlib-metadata>=6.8.0 in /Users/rchaves/.pyenv/versions/3.11.6/lib/python3.11/site-packages (from litellm<2.0.0,>=1.59.8->dspy) (8.6.1)\n",
            "Requirement already satisfied: jsonschema<5.0.0,>=4.22.0 in /Users/rchaves/.pyenv/versions/3.11.6/lib/python3.11/site-packages (from litellm<2.0.0,>=1.59.8->dspy) (4.23.0)\n",
            "Requirement already satisfied: python-dotenv>=0.2.0 in /Users/rchaves/.pyenv/versions/3.11.6/lib/python3.11/site-packages (from litellm<2.0.0,>=1.59.8->dspy) (1.1.0)\n",
            "Requirement already satisfied: tiktoken>=0.7.0 in /Users/rchaves/.pyenv/versions/3.11.6/lib/python3.11/site-packages (from litellm<2.0.0,>=1.59.8->dspy) (0.9.0)\n",
            "Requirement already satisfied: tokenizers in /Users/rchaves/.pyenv/versions/3.11.6/lib/python3.11/site-packages (from litellm<2.0.0,>=1.59.8->dspy) (0.21.1)\n",
            "Requirement already satisfied: MarkupSafe>=2.0 in /Users/rchaves/.pyenv/versions/3.11.6/lib/python3.11/site-packages (from jinja2->dspy) (3.0.2)\n",
            "Requirement already satisfied: distro<2,>=1.7.0 in /Users/rchaves/.pyenv/versions/3.11.6/lib/python3.11/site-packages (from openai->dspy) (1.9.0)\n",
            "Requirement already satisfied: jiter<1,>=0.4.0 in /Users/rchaves/.pyenv/versions/3.11.6/lib/python3.11/site-packages (from openai->dspy) (0.9.0)\n",
            "Requirement already satisfied: python-dateutil>=2.8.2 in /Users/rchaves/.pyenv/versions/3.11.6/lib/python3.11/site-packages (from pandas->dspy) (2.9.0.post0)\n",
            "Requirement already satisfied: pytz>=2020.1 in /Users/rchaves/.pyenv/versions/3.11.6/lib/python3.11/site-packages (from pandas->dspy) (2024.1)\n",
            "Requirement already satisfied: tzdata>=2022.7 in /Users/rchaves/.pyenv/versions/3.11.6/lib/python3.11/site-packages (from pandas->dspy) (2024.1)\n",
            "Requirement already satisfied: annotated-types>=0.6.0 in /Users/rchaves/.pyenv/versions/3.11.6/lib/python3.11/site-packages (from pydantic~=2.0->dspy) (0.7.0)\n",
            "Requirement already satisfied: pydantic-core==2.33.1 in /Users/rchaves/.pyenv/versions/3.11.6/lib/python3.11/site-packages (from pydantic~=2.0->dspy) (2.33.1)\n",
            "Requirement already satisfied: typing-inspection>=0.4.0 in /Users/rchaves/.pyenv/versions/3.11.6/lib/python3.11/site-packages (from pydantic~=2.0->dspy) (0.4.0)\n",
            "Requirement already satisfied: charset-normalizer<4,>=2 in /Users/rchaves/.pyenv/versions/3.11.6/lib/python3.11/site-packages (from requests->dspy) (3.4.1)\n",
            "Requirement already satisfied: urllib3<3,>=1.21.1 in /Users/rchaves/.pyenv/versions/3.11.6/lib/python3.11/site-packages (from requests->dspy) (2.3.0)\n",
            "Requirement already satisfied: decorator>=3.4.2 in /Users/rchaves/.pyenv/versions/3.11.6/lib/python3.11/site-packages (from retry<0.10.0,>=0.9.2->langwatch) (5.1.1)\n",
            "Requirement already satisfied: py<2.0.0,>=1.4.26 in /Users/rchaves/.pyenv/versions/3.11.6/lib/python3.11/site-packages (from retry<0.10.0,>=0.9.2->langwatch) (1.11.0)\n",
            "Requirement already satisfied: alembic>=1.5.0 in /Users/rchaves/.pyenv/versions/3.11.6/lib/python3.11/site-packages (from optuna->dspy) (1.14.0)\n",
            "Requirement already satisfied: colorlog in /Users/rchaves/.pyenv/versions/3.11.6/lib/python3.11/site-packages (from optuna->dspy) (6.8.2)\n",
            "Requirement already satisfied: sqlalchemy>=1.3.0 in /Users/rchaves/.pyenv/versions/3.11.6/lib/python3.11/site-packages (from optuna->dspy) (2.0.32)\n",
            "Requirement already satisfied: Mako in /Users/rchaves/.pyenv/versions/3.11.6/lib/python3.11/site-packages (from alembic>=1.5.0->optuna->dspy) (1.3.5)\n",
            "Requirement already satisfied: aiohappyeyeballs>=2.3.0 in /Users/rchaves/.pyenv/versions/3.11.6/lib/python3.11/site-packages (from aiohttp->datasets<3.0.0,>=2.14.6->dspy) (2.6.1)\n",
            "Requirement already satisfied: aiosignal>=1.1.2 in /Users/rchaves/.pyenv/versions/3.11.6/lib/python3.11/site-packages (from aiohttp->datasets<3.0.0,>=2.14.6->dspy) (1.3.2)\n",
            "Requirement already satisfied: attrs>=17.3.0 in /Users/rchaves/.pyenv/versions/3.11.6/lib/python3.11/site-packages (from aiohttp->datasets<3.0.0,>=2.14.6->dspy) (25.3.0)\n",
            "Requirement already satisfied: frozenlist>=1.1.1 in /Users/rchaves/.pyenv/versions/3.11.6/lib/python3.11/site-packages (from aiohttp->datasets<3.0.0,>=2.14.6->dspy) (1.5.0)\n",
            "Requirement already satisfied: multidict<7.0,>=4.5 in /Users/rchaves/.pyenv/versions/3.11.6/lib/python3.11/site-packages (from aiohttp->datasets<3.0.0,>=2.14.6->dspy) (6.4.2)\n",
            "Requirement already satisfied: propcache>=0.2.0 in /Users/rchaves/.pyenv/versions/3.11.6/lib/python3.11/site-packages (from aiohttp->datasets<3.0.0,>=2.14.6->dspy) (0.3.1)\n",
            "Requirement already satisfied: yarl<2.0,>=1.17.0 in /Users/rchaves/.pyenv/versions/3.11.6/lib/python3.11/site-packages (from aiohttp->datasets<3.0.0,>=2.14.6->dspy) (1.19.0)\n",
            "Requirement already satisfied: filelock in /Users/rchaves/.pyenv/versions/3.11.6/lib/python3.11/site-packages (from huggingface-hub<1.0.0,>=0.14.0->datasets<3.0.0,>=2.14.6->dspy) (3.18.0)\n",
            "Requirement already satisfied: zipp>=3.20 in /Users/rchaves/.pyenv/versions/3.11.6/lib/python3.11/site-packages (from importlib-metadata>=6.8.0->litellm<2.0.0,>=1.59.8->dspy) (3.21.0)\n",
            "Requirement already satisfied: jsonschema-specifications>=2023.03.6 in /Users/rchaves/.pyenv/versions/3.11.6/lib/python3.11/site-packages (from jsonschema<5.0.0,>=4.22.0->litellm<2.0.0,>=1.59.8->dspy) (2024.10.1)\n",
            "Requirement already satisfied: referencing>=0.28.4 in /Users/rchaves/.pyenv/versions/3.11.6/lib/python3.11/site-packages (from jsonschema<5.0.0,>=4.22.0->litellm<2.0.0,>=1.59.8->dspy) (0.36.2)\n",
            "Requirement already satisfied: rpds-py>=0.7.1 in /Users/rchaves/.pyenv/versions/3.11.6/lib/python3.11/site-packages (from jsonschema<5.0.0,>=4.22.0->litellm<2.0.0,>=1.59.8->dspy) (0.24.0)\n",
            "Requirement already satisfied: six>=1.5 in /Users/rchaves/.pyenv/versions/3.11.6/lib/python3.11/site-packages (from python-dateutil>=2.8.2->pandas->dspy) (1.16.0)\n",
            "\n",
            "\u001b[1m[\u001b[0m\u001b[34;49mnotice\u001b[0m\u001b[1;39;49m]\u001b[0m\u001b[39;49m A new release of pip is available: \u001b[0m\u001b[31;49m23.3.1\u001b[0m\u001b[39;49m -> \u001b[0m\u001b[32;49m25.1.1\u001b[0m\n",
            "\u001b[1m[\u001b[0m\u001b[34;49mnotice\u001b[0m\u001b[1;39;49m]\u001b[0m\u001b[39;49m To update, run: \u001b[0m\u001b[32;49mpip install --upgrade pip\u001b[0m\n"
          ]
        }
      ],
      "source": [
        "# Install langwatch along with dspy for the visualization\n",
        "!pip install dspy langwatch"
      ]
    },
    {
      "cell_type": "markdown",
      "metadata": {
        "id": "51OWavv1CCVV"
      },
      "source": [
        "## Preparing the LLM"
      ]
    },
    {
      "cell_type": "code",
      "execution_count": 2,
      "metadata": {
        "colab": {
          "base_uri": "https://localhost:8080/"
        },
        "id": "xycw8IWs_qnt",
        "outputId": "40844780-608a-4162-cac7-35f57c5764f1"
      },
      "outputs": [
        {
          "name": "stdout",
          "output_type": "stream",
          "text": [
            "LLM test response: ['Hello! How can I assist you today?']\n"
          ]
        }
      ],
      "source": [
        "import os\n",
        "from getpass import getpass\n",
        "\n",
        "os.environ[\"OPENAI_API_KEY\"] = getpass(\"Enter your OPENAI_API_KEY: \")\n",
        "\n",
        "import dspy\n",
        "\n",
        "llm = dspy.LM(\"openai/gpt-4o-mini\", api_key=os.environ[\"OPENAI_API_KEY\"])\n",
        "\n",
        "print(\"LLM test response:\", llm(\"hello there\"))\n",
        "\n",
        "colbertv2_wiki17_abstracts = dspy.ColBERTv2(\n",
        "    url=\"http://20.102.90.50:2017/wiki17_abstracts\"\n",
        ")\n",
        "dspy.settings.configure(lm=llm, rm=colbertv2_wiki17_abstracts)"
      ]
    },
    {
      "cell_type": "markdown",
      "metadata": {
        "id": "YIAYLNlcCFdO"
      },
      "source": [
        "## Preparing the Dataset"
      ]
    },
    {
      "cell_type": "code",
      "execution_count": 3,
      "metadata": {
        "colab": {
          "base_uri": "https://localhost:8080/"
        },
        "id": "NXH8qF-QBcEJ",
        "outputId": "203d4516-b9a2-4748-8fcc-7dd64be1342d"
      },
      "outputs": [
        {
          "data": {
            "text/plain": [
              "(32, 50)"
            ]
          },
          "execution_count": 3,
          "metadata": {},
          "output_type": "execute_result"
        }
      ],
      "source": [
        "from dspy.datasets import HotPotQA\n",
        "\n",
        "# Load the dataset.\n",
        "dataset = HotPotQA(train_seed=1, train_size=32, eval_seed=2025, dev_size=50, test_size=0)\n",
        "\n",
        "# Tell DSPy that the 'question' field is the input. Any other fields are labels and/or metadata.\n",
        "trainset = [x.with_inputs('question') for x in dataset.train]\n",
        "devset = [x.with_inputs('question') for x in dataset.dev]\n",
        "\n",
        "len(trainset), len(devset)"
      ]
    },
    {
      "cell_type": "markdown",
      "metadata": {
        "id": "KOXtqnmfCNzS"
      },
      "source": [
        "## Defining the model"
      ]
    },
    {
      "cell_type": "code",
      "execution_count": 4,
      "metadata": {
        "colab": {
          "base_uri": "https://localhost:8080/"
        },
        "id": "WxAaf1IABgxM",
        "outputId": "03155b63-bbaf-4ceb-bf26-07cda4f52b6f"
      },
      "outputs": [
        {
          "name": "stdout",
          "output_type": "stream",
          "text": [
            "[Devset] Question: Which magazine was released first, Fortune or Motor Trend?\n",
            "[Devset] Answer: Motor Trend\n",
            "[Devset] Relevant Wikipedia Titles: {'Fortune (magazine)', 'Motor Trend'}\n",
            "[Prediction] Question: Which magazine was released first, Fortune or Motor Trend?\n",
            "[Prediction] Predicted Answer: Fortune\n"
          ]
        }
      ],
      "source": [
        "class GenerateAnswer(dspy.Signature):\n",
        "    \"\"\"Answer questions with short factoid answers.\"\"\"\n",
        "\n",
        "    context = dspy.InputField(desc=\"may contain relevant facts\")\n",
        "    question = dspy.InputField()\n",
        "    answer = dspy.OutputField(desc=\"often between 1 and 5 words\")\n",
        "\n",
        "\n",
        "class RAG(dspy.Module):\n",
        "    def __init__(self, num_passages=3):\n",
        "        super().__init__()\n",
        "\n",
        "        self.retrieve = dspy.Retrieve(k=num_passages)\n",
        "        self.generate_answer = dspy.ChainOfThought(GenerateAnswer)\n",
        "\n",
        "    def forward(self, question):\n",
        "        context = self.retrieve(question).passages # type: ignore\n",
        "        prediction = self.generate_answer(context=context, question=question)\n",
        "        return dspy.Prediction(context=context, answer=prediction.answer)\n",
        "\n",
        "\n",
        "dev_example = devset[18]\n",
        "print(f\"[Devset] Question: {dev_example.question}\")\n",
        "print(f\"[Devset] Answer: {dev_example.answer}\")\n",
        "print(f\"[Devset] Relevant Wikipedia Titles: {dev_example.gold_titles}\")\n",
        "\n",
        "generate_answer = RAG()\n",
        "\n",
        "pred = generate_answer(question=dev_example.question)\n",
        "\n",
        "# Print the input and the prediction.\n",
        "print(f\"[Prediction] Question: {dev_example.question}\")\n",
        "print(f\"[Prediction] Predicted Answer: {pred.answer}\")"
      ]
    },
    {
      "cell_type": "markdown",
      "metadata": {
        "id": "ytbRU9jJCSj8"
      },
      "source": [
        "## Login to LangWatch"
      ]
    },
    {
      "cell_type": "code",
      "execution_count": 1,
      "metadata": {
        "colab": {
          "base_uri": "https://localhost:8080/"
        },
        "id": "lF9DxTGeCU15",
        "outputId": "29ebbacf-9ca8-4322-fd77-32e47f4c93aa"
      },
      "outputs": [
        {
          "name": "stderr",
          "output_type": "stream",
          "text": [
            "/Users/rchaves/Projects/langwatch-saas/langwatch/langwatch_nlp/.venv/lib/python3.12/site-packages/tqdm/auto.py:21: TqdmWarning: IProgress not found. Please update jupyter and ipywidgets. See https://ipywidgets.readthedocs.io/en/stable/user_install.html\n",
            "  from .autonotebook import tqdm as notebook_tqdm\n"
          ]
        },
        {
          "name": "stdout",
          "output_type": "stream",
          "text": [
            "Please go to https://app.langwatch.ai/authorize to get your API key\n",
            "LangWatch API key set\n"
          ]
        }
      ],
      "source": [
        "import langwatch\n",
        "\n",
        "langwatch.login()"
      ]
    },
    {
      "cell_type": "markdown",
      "metadata": {
        "id": "o69S-BlkE-bV"
      },
      "source": [
        "## Start Training Session!"
      ]
    },
    {
      "cell_type": "code",
      "execution_count": 6,
      "metadata": {
        "colab": {
          "base_uri": "https://localhost:8080/"
        },
        "id": "Ef67q2B-FCIP",
        "outputId": "cefe1935-1ef3-46ad-a54c-74f08bfb75f0"
      },
      "outputs": [
        {
          "name": "stderr",
          "output_type": "stream",
          "text": [
            "2025/05/09 14:34:42 INFO dspy.teleprompt.mipro_optimizer_v2: \n",
            "RUNNING WITH THE FOLLOWING MEDIUM AUTO RUN SETTINGS:\n",
            "num_trials: 25\n",
            "minibatch: False\n",
            "num_candidates: 19\n",
            "valset size: 25\n",
            "\n"
          ]
        },
        {
          "name": "stdout",
          "output_type": "stream",
          "text": [
            "\n",
            "[LangWatch] Experiment initialized, run_id: gay-jasmine-pigeon\n",
            "[LangWatch] Open https://app.langwatch.ai/public-documentation-examples-YxS3Bf/experiments/my-awesome-experiment?runIds=gay-jasmine-pigeon to track your DSPy training session live\n",
            "\n"
          ]
        },
        {
          "name": "stderr",
          "output_type": "stream",
          "text": [
            "2025/05/09 14:34:44 INFO dspy.teleprompt.mipro_optimizer_v2: \n",
            "==> STEP 1: BOOTSTRAP FEWSHOT EXAMPLES <==\n",
            "2025/05/09 14:34:44 INFO dspy.teleprompt.mipro_optimizer_v2: These will be used as few-shot example candidates for our program and for creating instructions.\n",
            "\n",
            "2025/05/09 14:34:44 INFO dspy.teleprompt.mipro_optimizer_v2: Bootstrapping N=19 sets of demonstrations...\n"
          ]
        },
        {
          "name": "stdout",
          "output_type": "stream",
          "text": [
            "Bootstrapping set 1/19\n",
            "Bootstrapping set 2/19\n",
            "Bootstrapping set 3/19\n"
          ]
        },
        {
          "name": "stderr",
          "output_type": "stream",
          "text": [
            "100%|██████████| 7/7 [00:00<00:00, 216.70it/s]\n"
          ]
        },
        {
          "name": "stdout",
          "output_type": "stream",
          "text": [
            "Bootstrapped 1 full traces after 6 examples for up to 1 rounds, amounting to 7 attempts.\n",
            "Bootstrapping set 4/19\n"
          ]
        },
        {
          "name": "stderr",
          "output_type": "stream",
          "text": [
            "100%|██████████| 7/7 [00:00<00:00, 238.30it/s]\n"
          ]
        },
        {
          "name": "stdout",
          "output_type": "stream",
          "text": [
            "Bootstrapped 1 full traces after 6 examples for up to 1 rounds, amounting to 7 attempts.\n",
            "Bootstrapping set 5/19\n"
          ]
        },
        {
          "name": "stderr",
          "output_type": "stream",
          "text": [
            " 57%|█████▋    | 4/7 [00:00<00:00, 383.80it/s]\n"
          ]
        },
        {
          "name": "stdout",
          "output_type": "stream",
          "text": [
            "Bootstrapped 1 full traces after 4 examples for up to 1 rounds, amounting to 4 attempts.\n",
            "Bootstrapping set 6/19\n"
          ]
        },
        {
          "name": "stderr",
          "output_type": "stream",
          "text": [
            " 43%|████▎     | 3/7 [00:00<00:00, 177.71it/s]\n"
          ]
        },
        {
          "name": "stdout",
          "output_type": "stream",
          "text": [
            "Bootstrapped 1 full traces after 3 examples for up to 1 rounds, amounting to 3 attempts.\n",
            "Bootstrapping set 7/19\n"
          ]
        },
        {
          "name": "stderr",
          "output_type": "stream",
          "text": [
            "100%|██████████| 7/7 [00:00<00:00, 426.47it/s]\n"
          ]
        },
        {
          "name": "stdout",
          "output_type": "stream",
          "text": [
            "Bootstrapped 1 full traces after 6 examples for up to 1 rounds, amounting to 7 attempts.\n",
            "Bootstrapping set 8/19\n"
          ]
        },
        {
          "name": "stderr",
          "output_type": "stream",
          "text": [
            "100%|██████████| 7/7 [00:00<00:00, 347.24it/s]\n"
          ]
        },
        {
          "name": "stdout",
          "output_type": "stream",
          "text": [
            "Bootstrapped 1 full traces after 6 examples for up to 1 rounds, amounting to 7 attempts.\n",
            "Bootstrapping set 9/19\n"
          ]
        },
        {
          "name": "stderr",
          "output_type": "stream",
          "text": [
            " 71%|███████▏  | 5/7 [00:00<00:00, 559.60it/s]\n"
          ]
        },
        {
          "name": "stdout",
          "output_type": "stream",
          "text": [
            "Bootstrapped 1 full traces after 5 examples for up to 1 rounds, amounting to 5 attempts.\n",
            "Bootstrapping set 10/19\n"
          ]
        },
        {
          "name": "stderr",
          "output_type": "stream",
          "text": [
            "100%|██████████| 7/7 [00:00<00:00, 314.52it/s]\n"
          ]
        },
        {
          "name": "stdout",
          "output_type": "stream",
          "text": [
            "Bootstrapped 1 full traces after 6 examples for up to 1 rounds, amounting to 7 attempts.\n",
            "Bootstrapping set 11/19\n"
          ]
        },
        {
          "name": "stderr",
          "output_type": "stream",
          "text": [
            " 86%|████████▌ | 6/7 [00:00<00:00, 507.27it/s]\n"
          ]
        },
        {
          "name": "stdout",
          "output_type": "stream",
          "text": [
            "Bootstrapped 1 full traces after 6 examples for up to 1 rounds, amounting to 6 attempts.\n",
            "Bootstrapping set 12/19\n"
          ]
        },
        {
          "name": "stderr",
          "output_type": "stream",
          "text": [
            " 71%|███████▏  | 5/7 [00:00<00:00, 410.37it/s]\n"
          ]
        },
        {
          "name": "stdout",
          "output_type": "stream",
          "text": [
            "Bootstrapped 1 full traces after 5 examples for up to 1 rounds, amounting to 5 attempts.\n",
            "Bootstrapping set 13/19\n"
          ]
        },
        {
          "name": "stderr",
          "output_type": "stream",
          "text": [
            "100%|██████████| 7/7 [00:00<00:00, 56.82it/s]\n"
          ]
        },
        {
          "name": "stdout",
          "output_type": "stream",
          "text": [
            "Bootstrapped 1 full traces after 6 examples for up to 1 rounds, amounting to 7 attempts.\n",
            "Bootstrapping set 14/19\n"
          ]
        },
        {
          "name": "stderr",
          "output_type": "stream",
          "text": [
            "100%|██████████| 7/7 [00:00<00:00, 602.46it/s]\n"
          ]
        },
        {
          "name": "stdout",
          "output_type": "stream",
          "text": [
            "Bootstrapped 1 full traces after 6 examples for up to 1 rounds, amounting to 7 attempts.\n",
            "Bootstrapping set 15/19\n"
          ]
        },
        {
          "name": "stderr",
          "output_type": "stream",
          "text": [
            "100%|██████████| 7/7 [00:00<00:00, 488.53it/s]\n"
          ]
        },
        {
          "name": "stdout",
          "output_type": "stream",
          "text": [
            "Bootstrapped 1 full traces after 6 examples for up to 1 rounds, amounting to 7 attempts.\n",
            "Bootstrapping set 16/19\n"
          ]
        },
        {
          "name": "stderr",
          "output_type": "stream",
          "text": [
            "100%|██████████| 7/7 [00:00<00:00, 503.09it/s]\n"
          ]
        },
        {
          "name": "stdout",
          "output_type": "stream",
          "text": [
            "Bootstrapped 1 full traces after 6 examples for up to 1 rounds, amounting to 7 attempts.\n",
            "Bootstrapping set 17/19\n"
          ]
        },
        {
          "name": "stderr",
          "output_type": "stream",
          "text": [
            " 86%|████████▌ | 6/7 [00:00<00:00, 504.97it/s]\n"
          ]
        },
        {
          "name": "stdout",
          "output_type": "stream",
          "text": [
            "Bootstrapped 1 full traces after 6 examples for up to 1 rounds, amounting to 6 attempts.\n",
            "Bootstrapping set 18/19\n"
          ]
        },
        {
          "name": "stderr",
          "output_type": "stream",
          "text": [
            "100%|██████████| 7/7 [00:00<00:00, 473.65it/s]\n"
          ]
        },
        {
          "name": "stdout",
          "output_type": "stream",
          "text": [
            "Bootstrapped 1 full traces after 6 examples for up to 1 rounds, amounting to 7 attempts.\n",
            "Bootstrapping set 19/19\n"
          ]
        },
        {
          "name": "stderr",
          "output_type": "stream",
          "text": [
            "100%|██████████| 7/7 [00:00<00:00, 418.26it/s]\n",
            "2025/05/09 14:34:44 INFO dspy.teleprompt.mipro_optimizer_v2: \n",
            "==> STEP 2: PROPOSE INSTRUCTION CANDIDATES <==\n",
            "2025/05/09 14:34:44 INFO dspy.teleprompt.mipro_optimizer_v2: We will use the few-shot examples from the previous step, a generated dataset summary, a summary of the program code, and a randomly selected prompting tip to propose instructions.\n",
            "2025/05/09 14:34:44 INFO dspy.teleprompt.mipro_optimizer_v2: \n",
            "Proposing instructions...\n",
            "\n",
            "2025/05/09 14:34:44 INFO dspy.teleprompt.mipro_optimizer_v2: Proposed Instructions for Predictor 0:\n",
            "\n",
            "2025/05/09 14:34:44 INFO dspy.teleprompt.mipro_optimizer_v2: 0: Answer questions with short factoid answers.\n",
            "\n",
            "2025/05/09 14:34:44 INFO dspy.teleprompt.mipro_optimizer_v2: 1: You are a trivia expert. Given the provided context, answer the following question with a short factoid response (1 to 5 words).\n",
            "\n",
            "2025/05/09 14:34:44 INFO dspy.teleprompt.mipro_optimizer_v2: 2: Imagine you are a contestant on a high-stakes trivia game show, where every question you answer correctly brings you closer to winning a grand prize. You must provide accurate and concise answers to the questions presented, based on the context given. Utilizing the context provided, answer the question by applying reasoning to ensure your answer is correct and clear. Remember, your answer should be a short factoid that directly addresses the question.\n",
            "\n",
            "2025/05/09 14:34:44 INFO dspy.teleprompt.mipro_optimizer_v2: 3: Utilize the provided context to accurately answer the given question. Focus on identifying specific details within the context that directly relate to the question. Your response should include a logical reasoning process that explains how you arrived at your answer, followed by a concise fact-based answer that is typically between 1 and 5 words.\n",
            "\n",
            "2025/05/09 14:34:44 INFO dspy.teleprompt.mipro_optimizer_v2: 4: Given the context and the question, provide a concise fact-based answer while demonstrating the reasoning process that leads to your conclusion. Remember to keep your answer between 1 to 5 words.\n",
            "\n",
            "2025/05/09 14:34:44 INFO dspy.teleprompt.mipro_optimizer_v2: 5: Using the provided context, answer the question by identifying the correct fact based on the information given. Ensure that your response is concise and consists of 1 to 5 words. Follow a logical reasoning process to arrive at your answer, clearly stating why you reached that conclusion based on the context provided.\n",
            "\n",
            "2025/05/09 14:34:44 INFO dspy.teleprompt.mipro_optimizer_v2: 6: You are a trivia master on a live quiz show, and the host has just posed a challenging question to you: \"Which magazine has published articles by Scott Shaw, Tae Kwon Do Times or Southwest Art?\" Using the provided context about various martial arts magazines and their authors, analyze the information carefully. Provide clear reasoning for your answer to impress the audience before you reveal the final answer, which should be concise and factual.\n",
            "\n",
            "2025/05/09 14:34:44 INFO dspy.teleprompt.mipro_optimizer_v2: 7: You are a trivia expert. Given the context and the question, provide a logical reasoning process to arrive at a concise fact-based answer. Make sure your answer is short, typically between 1 to 5 words.\n",
            "\n",
            "2025/05/09 14:34:44 INFO dspy.teleprompt.mipro_optimizer_v2: 8: You are a trivia expert. Given the context and question provided, generate a concise answer based on the relevant information. Ensure your reasoning is clear and follows a logical sequence to arrive at the answer.\n",
            "\n",
            "2025/05/09 14:34:44 INFO dspy.teleprompt.mipro_optimizer_v2: 9: Using the provided context and question, generate a structured response that includes a step-by-step reasoning process followed by a concise fact-based answer. Ensure the final answer is typically between 1 and 5 words.\n",
            "\n",
            "2025/05/09 14:34:44 INFO dspy.teleprompt.mipro_optimizer_v2: 10: Given the provided context and question, generate a concise response that accurately reflects the information presented. Ensure that your reasoning is clear and directly linked to the context, leading to a succinct answer that typically consists of one to five words.\n",
            "\n",
            "2025/05/09 14:34:44 INFO dspy.teleprompt.mipro_optimizer_v2: 11: Using the provided context, answer the question by extracting specific information and reasoning through the details to arrive at a concise fact-based response. Keep your answer short, ideally between 1 and 5 words, and ensure that your reasoning clearly explains how you arrived at the answer.\n",
            "\n",
            "2025/05/09 14:34:44 INFO dspy.teleprompt.mipro_optimizer_v2: 12: In a high-stakes quiz competition where every second counts, you must answer the following trivia question based on the provided context. Use your reasoning skills to analyze the context thoroughly, and then provide a concise fact-based answer. Here’s your question: Which magazine has published articles by Scott Shaw, Tae Kwon Do Times or Southwest Art? Remember to justify your answer with logical reasoning based on the context given.\n",
            "\n",
            "2025/05/09 14:34:44 INFO dspy.teleprompt.mipro_optimizer_v2: 13: Given the provided context and question, analyze the information step by step to determine the correct answer. Provide a concise factoid response based on your reasoning.\n",
            "\n",
            "2025/05/09 14:34:44 INFO dspy.teleprompt.mipro_optimizer_v2: 14: Given the context provided, analyze the relationship between the magazine and the authors mentioned. Answer the question clearly and succinctly, ensuring your response is based on the information extracted from the context. Keep your answer brief, typically between 1 and 5 words.\n",
            "\n",
            "2025/05/09 14:34:44 INFO dspy.teleprompt.mipro_optimizer_v2: 15: Using the provided context, answer the question with a concise fact-based response, ensuring that the reasoning process is clearly articulated to support your answer. The answer should typically be between one and five words.\n",
            "\n",
            "2025/05/09 14:34:44 INFO dspy.teleprompt.mipro_optimizer_v2: 16: Using the provided context, answer the question by reasoning step by step. Ensure your answer is a short factoid that is directly derived from the context.\n",
            "\n",
            "2025/05/09 14:34:44 INFO dspy.teleprompt.mipro_optimizer_v2: 17: Using the context provided, answer the following question by first reasoning through the relevant facts step by step, and then providing a concise fact-based answer. Ensure the answer is grounded in the context and typically consists of one to five words.\n",
            "\n",
            "2025/05/09 14:34:44 INFO dspy.teleprompt.mipro_optimizer_v2: 18: Utilize the given context to accurately answer the question by reasoning through the relevant facts presented, ensuring that your response is concise and directly addresses the inquiry.\n",
            "\n",
            "2025/05/09 14:34:44 INFO dspy.teleprompt.mipro_optimizer_v2: \n",
            "\n",
            "2025/05/09 14:34:44 INFO dspy.teleprompt.mipro_optimizer_v2: ==> STEP 3: FINDING OPTIMAL PROMPT PARAMETERS <==\n",
            "2025/05/09 14:34:44 INFO dspy.teleprompt.mipro_optimizer_v2: We will evaluate the program over a series of trials with different combinations of instructions and few-shot examples to find the optimal combination using Bayesian Optimization.\n",
            "\n",
            "2025/05/09 14:34:44 INFO dspy.teleprompt.mipro_optimizer_v2: == Trial 1 / 25 - Full Evaluation of Default Program ==\n"
          ]
        },
        {
          "name": "stdout",
          "output_type": "stream",
          "text": [
            "Bootstrapped 1 full traces after 6 examples for up to 1 rounds, amounting to 7 attempts.\n",
            "Average Metric: 10.00 / 25 (40.0%): 100%|██████████| 25/25 [00:00<00:00, 357.72it/s]"
          ]
        },
        {
          "name": "stderr",
          "output_type": "stream",
          "text": [
            "2025/05/09 14:34:44 INFO dspy.evaluate.evaluate: Average Metric: 10 / 25 (40.0%)\n"
          ]
        },
        {
          "name": "stdout",
          "output_type": "stream",
          "text": [
            "\n"
          ]
        },
        {
          "name": "stderr",
          "output_type": "stream",
          "text": [
            "2025/05/09 14:34:46 INFO dspy.teleprompt.mipro_optimizer_v2: Default program score: 40.0\n",
            "\n",
            "2025/05/09 14:34:46 INFO dspy.teleprompt.mipro_optimizer_v2: ===== Trial 2 / 25 =====\n"
          ]
        },
        {
          "name": "stdout",
          "output_type": "stream",
          "text": [
            "Average Metric: 8.00 / 25 (32.0%): 100%|██████████| 25/25 [00:00<00:00, 40.66it/s]"
          ]
        },
        {
          "name": "stderr",
          "output_type": "stream",
          "text": [
            "2025/05/09 14:34:47 INFO dspy.evaluate.evaluate: Average Metric: 8 / 25 (32.0%)\n"
          ]
        },
        {
          "name": "stdout",
          "output_type": "stream",
          "text": [
            "\n"
          ]
        },
        {
          "name": "stderr",
          "output_type": "stream",
          "text": [
            "2025/05/09 14:34:47 INFO dspy.teleprompt.mipro_optimizer_v2: Score: 32.0 with parameters ['Predictor 0: Instruction 12', 'Predictor 0: Few-Shot Set 7'].\n",
            "2025/05/09 14:34:47 INFO dspy.teleprompt.mipro_optimizer_v2: Scores so far: [40.0, 32.0]\n",
            "2025/05/09 14:34:47 INFO dspy.teleprompt.mipro_optimizer_v2: Best score so far: 40.0\n",
            "2025/05/09 14:34:47 INFO dspy.teleprompt.mipro_optimizer_v2: ========================\n",
            "\n",
            "\n",
            "2025/05/09 14:34:47 INFO dspy.teleprompt.mipro_optimizer_v2: ===== Trial 3 / 25 =====\n"
          ]
        },
        {
          "name": "stdout",
          "output_type": "stream",
          "text": [
            "Average Metric: 9.00 / 25 (36.0%): 100%|██████████| 25/25 [00:00<00:00, 332.77it/s]"
          ]
        },
        {
          "name": "stderr",
          "output_type": "stream",
          "text": [
            "2025/05/09 14:34:47 INFO dspy.evaluate.evaluate: Average Metric: 9 / 25 (36.0%)\n"
          ]
        },
        {
          "name": "stdout",
          "output_type": "stream",
          "text": [
            "\n"
          ]
        },
        {
          "name": "stderr",
          "output_type": "stream",
          "text": [
            "2025/05/09 14:34:48 INFO dspy.teleprompt.mipro_optimizer_v2: Score: 36.0 with parameters ['Predictor 0: Instruction 10', 'Predictor 0: Few-Shot Set 7'].\n",
            "2025/05/09 14:34:48 INFO dspy.teleprompt.mipro_optimizer_v2: Scores so far: [40.0, 32.0, 36.0]\n",
            "2025/05/09 14:34:48 INFO dspy.teleprompt.mipro_optimizer_v2: Best score so far: 40.0\n",
            "2025/05/09 14:34:48 INFO dspy.teleprompt.mipro_optimizer_v2: ========================\n",
            "\n",
            "\n",
            "2025/05/09 14:34:48 INFO dspy.teleprompt.mipro_optimizer_v2: ===== Trial 4 / 25 =====\n"
          ]
        },
        {
          "name": "stdout",
          "output_type": "stream",
          "text": [
            "Average Metric: 11.00 / 25 (44.0%): 100%|██████████| 25/25 [00:00<00:00, 397.39it/s]"
          ]
        },
        {
          "name": "stderr",
          "output_type": "stream",
          "text": [
            "2025/05/09 14:34:48 INFO dspy.evaluate.evaluate: Average Metric: 11 / 25 (44.0%)\n"
          ]
        },
        {
          "name": "stdout",
          "output_type": "stream",
          "text": [
            "\n"
          ]
        },
        {
          "name": "stderr",
          "output_type": "stream",
          "text": [
            "2025/05/09 14:34:48 INFO dspy.teleprompt.mipro_optimizer_v2: \u001b[92mBest full score so far!\u001b[0m Score: 44.0\n",
            "2025/05/09 14:34:48 INFO dspy.teleprompt.mipro_optimizer_v2: Score: 44.0 with parameters ['Predictor 0: Instruction 7', 'Predictor 0: Few-Shot Set 18'].\n",
            "2025/05/09 14:34:48 INFO dspy.teleprompt.mipro_optimizer_v2: Scores so far: [40.0, 32.0, 36.0, 44.0]\n",
            "2025/05/09 14:34:48 INFO dspy.teleprompt.mipro_optimizer_v2: Best score so far: 44.0\n",
            "2025/05/09 14:34:48 INFO dspy.teleprompt.mipro_optimizer_v2: ========================\n",
            "\n",
            "\n",
            "2025/05/09 14:34:48 INFO dspy.teleprompt.mipro_optimizer_v2: ===== Trial 5 / 25 =====\n"
          ]
        },
        {
          "name": "stdout",
          "output_type": "stream",
          "text": [
            "Average Metric: 9.00 / 25 (36.0%): 100%|██████████| 25/25 [00:00<00:00, 372.74it/s]"
          ]
        },
        {
          "name": "stderr",
          "output_type": "stream",
          "text": [
            "2025/05/09 14:34:48 INFO dspy.evaluate.evaluate: Average Metric: 9 / 25 (36.0%)\n"
          ]
        },
        {
          "name": "stdout",
          "output_type": "stream",
          "text": [
            "\n"
          ]
        },
        {
          "name": "stderr",
          "output_type": "stream",
          "text": [
            "2025/05/09 14:34:49 INFO dspy.teleprompt.mipro_optimizer_v2: Score: 36.0 with parameters ['Predictor 0: Instruction 15', 'Predictor 0: Few-Shot Set 2'].\n",
            "2025/05/09 14:34:49 INFO dspy.teleprompt.mipro_optimizer_v2: Scores so far: [40.0, 32.0, 36.0, 44.0, 36.0]\n",
            "2025/05/09 14:34:49 INFO dspy.teleprompt.mipro_optimizer_v2: Best score so far: 44.0\n",
            "2025/05/09 14:34:49 INFO dspy.teleprompt.mipro_optimizer_v2: ========================\n",
            "\n",
            "\n",
            "2025/05/09 14:34:49 INFO dspy.teleprompt.mipro_optimizer_v2: ===== Trial 6 / 25 =====\n"
          ]
        },
        {
          "name": "stdout",
          "output_type": "stream",
          "text": [
            "Average Metric: 10.00 / 25 (40.0%): 100%|██████████| 25/25 [00:00<00:00, 286.23it/s]"
          ]
        },
        {
          "name": "stderr",
          "output_type": "stream",
          "text": [
            "2025/05/09 14:34:49 INFO dspy.evaluate.evaluate: Average Metric: 10 / 25 (40.0%)\n"
          ]
        },
        {
          "name": "stdout",
          "output_type": "stream",
          "text": [
            "\n"
          ]
        },
        {
          "name": "stderr",
          "output_type": "stream",
          "text": [
            "2025/05/09 14:34:50 INFO dspy.teleprompt.mipro_optimizer_v2: Score: 40.0 with parameters ['Predictor 0: Instruction 8', 'Predictor 0: Few-Shot Set 18'].\n",
            "2025/05/09 14:34:50 INFO dspy.teleprompt.mipro_optimizer_v2: Scores so far: [40.0, 32.0, 36.0, 44.0, 36.0, 40.0]\n",
            "2025/05/09 14:34:50 INFO dspy.teleprompt.mipro_optimizer_v2: Best score so far: 44.0\n",
            "2025/05/09 14:34:50 INFO dspy.teleprompt.mipro_optimizer_v2: ========================\n",
            "\n",
            "\n",
            "2025/05/09 14:34:50 INFO dspy.teleprompt.mipro_optimizer_v2: ===== Trial 7 / 25 =====\n"
          ]
        },
        {
          "name": "stdout",
          "output_type": "stream",
          "text": [
            "Average Metric: 9.00 / 25 (36.0%): 100%|██████████| 25/25 [00:00<00:00, 323.79it/s]"
          ]
        },
        {
          "name": "stderr",
          "output_type": "stream",
          "text": [
            "2025/05/09 14:34:50 INFO dspy.evaluate.evaluate: Average Metric: 9 / 25 (36.0%)\n"
          ]
        },
        {
          "name": "stdout",
          "output_type": "stream",
          "text": [
            "\n"
          ]
        },
        {
          "name": "stderr",
          "output_type": "stream",
          "text": [
            "2025/05/09 14:34:50 INFO dspy.teleprompt.mipro_optimizer_v2: Score: 36.0 with parameters ['Predictor 0: Instruction 7', 'Predictor 0: Few-Shot Set 1'].\n",
            "2025/05/09 14:34:50 INFO dspy.teleprompt.mipro_optimizer_v2: Scores so far: [40.0, 32.0, 36.0, 44.0, 36.0, 40.0, 36.0]\n",
            "2025/05/09 14:34:50 INFO dspy.teleprompt.mipro_optimizer_v2: Best score so far: 44.0\n",
            "2025/05/09 14:34:50 INFO dspy.teleprompt.mipro_optimizer_v2: ========================\n",
            "\n",
            "\n",
            "2025/05/09 14:34:50 INFO dspy.teleprompt.mipro_optimizer_v2: ===== Trial 8 / 25 =====\n"
          ]
        },
        {
          "name": "stdout",
          "output_type": "stream",
          "text": [
            "Average Metric: 10.00 / 25 (40.0%): 100%|██████████| 25/25 [00:00<00:00, 336.26it/s]"
          ]
        },
        {
          "name": "stderr",
          "output_type": "stream",
          "text": [
            "2025/05/09 14:34:50 INFO dspy.evaluate.evaluate: Average Metric: 10 / 25 (40.0%)\n"
          ]
        },
        {
          "name": "stdout",
          "output_type": "stream",
          "text": [
            "\n"
          ]
        },
        {
          "name": "stderr",
          "output_type": "stream",
          "text": [
            "2025/05/09 14:34:51 INFO dspy.teleprompt.mipro_optimizer_v2: Score: 40.0 with parameters ['Predictor 0: Instruction 7', 'Predictor 0: Few-Shot Set 12'].\n",
            "2025/05/09 14:34:51 INFO dspy.teleprompt.mipro_optimizer_v2: Scores so far: [40.0, 32.0, 36.0, 44.0, 36.0, 40.0, 36.0, 40.0]\n",
            "2025/05/09 14:34:51 INFO dspy.teleprompt.mipro_optimizer_v2: Best score so far: 44.0\n",
            "2025/05/09 14:34:51 INFO dspy.teleprompt.mipro_optimizer_v2: ========================\n",
            "\n",
            "\n",
            "2025/05/09 14:34:51 INFO dspy.teleprompt.mipro_optimizer_v2: ===== Trial 9 / 25 =====\n"
          ]
        },
        {
          "name": "stdout",
          "output_type": "stream",
          "text": [
            "Average Metric: 10.00 / 25 (40.0%): 100%|██████████| 25/25 [00:00<00:00, 367.12it/s]"
          ]
        },
        {
          "name": "stderr",
          "output_type": "stream",
          "text": [
            "2025/05/09 14:34:51 INFO dspy.evaluate.evaluate: Average Metric: 10 / 25 (40.0%)\n"
          ]
        },
        {
          "name": "stdout",
          "output_type": "stream",
          "text": [
            "\n"
          ]
        },
        {
          "name": "stderr",
          "output_type": "stream",
          "text": [
            "2025/05/09 14:34:51 INFO dspy.teleprompt.mipro_optimizer_v2: Score: 40.0 with parameters ['Predictor 0: Instruction 11', 'Predictor 0: Few-Shot Set 13'].\n",
            "2025/05/09 14:34:51 INFO dspy.teleprompt.mipro_optimizer_v2: Scores so far: [40.0, 32.0, 36.0, 44.0, 36.0, 40.0, 36.0, 40.0, 40.0]\n",
            "2025/05/09 14:34:51 INFO dspy.teleprompt.mipro_optimizer_v2: Best score so far: 44.0\n",
            "2025/05/09 14:34:51 INFO dspy.teleprompt.mipro_optimizer_v2: ========================\n",
            "\n",
            "\n",
            "2025/05/09 14:34:51 INFO dspy.teleprompt.mipro_optimizer_v2: ===== Trial 10 / 25 =====\n"
          ]
        },
        {
          "name": "stdout",
          "output_type": "stream",
          "text": [
            "Average Metric: 11.00 / 25 (44.0%): 100%|██████████| 25/25 [00:00<00:00, 404.03it/s]"
          ]
        },
        {
          "name": "stderr",
          "output_type": "stream",
          "text": [
            "2025/05/09 14:34:51 INFO dspy.evaluate.evaluate: Average Metric: 11 / 25 (44.0%)\n"
          ]
        },
        {
          "name": "stdout",
          "output_type": "stream",
          "text": [
            "\n"
          ]
        },
        {
          "name": "stderr",
          "output_type": "stream",
          "text": [
            "2025/05/09 14:34:52 INFO dspy.teleprompt.mipro_optimizer_v2: Score: 44.0 with parameters ['Predictor 0: Instruction 5', 'Predictor 0: Few-Shot Set 4'].\n",
            "2025/05/09 14:34:52 INFO dspy.teleprompt.mipro_optimizer_v2: Scores so far: [40.0, 32.0, 36.0, 44.0, 36.0, 40.0, 36.0, 40.0, 40.0, 44.0]\n",
            "2025/05/09 14:34:52 INFO dspy.teleprompt.mipro_optimizer_v2: Best score so far: 44.0\n",
            "2025/05/09 14:34:52 INFO dspy.teleprompt.mipro_optimizer_v2: =========================\n",
            "\n",
            "\n",
            "2025/05/09 14:34:52 INFO dspy.teleprompt.mipro_optimizer_v2: ===== Trial 11 / 25 =====\n"
          ]
        },
        {
          "name": "stdout",
          "output_type": "stream",
          "text": [
            "Average Metric: 11.00 / 25 (44.0%): 100%|██████████| 25/25 [00:00<00:00, 359.01it/s]"
          ]
        },
        {
          "name": "stderr",
          "output_type": "stream",
          "text": [
            "2025/05/09 14:34:52 INFO dspy.evaluate.evaluate: Average Metric: 11 / 25 (44.0%)\n"
          ]
        },
        {
          "name": "stdout",
          "output_type": "stream",
          "text": [
            "\n"
          ]
        },
        {
          "name": "stderr",
          "output_type": "stream",
          "text": [
            "2025/05/09 14:34:52 INFO dspy.teleprompt.mipro_optimizer_v2: Score: 44.0 with parameters ['Predictor 0: Instruction 7', 'Predictor 0: Few-Shot Set 18'].\n",
            "2025/05/09 14:34:52 INFO dspy.teleprompt.mipro_optimizer_v2: Scores so far: [40.0, 32.0, 36.0, 44.0, 36.0, 40.0, 36.0, 40.0, 40.0, 44.0, 44.0]\n",
            "2025/05/09 14:34:52 INFO dspy.teleprompt.mipro_optimizer_v2: Best score so far: 44.0\n",
            "2025/05/09 14:34:52 INFO dspy.teleprompt.mipro_optimizer_v2: =========================\n",
            "\n",
            "\n",
            "2025/05/09 14:34:52 INFO dspy.teleprompt.mipro_optimizer_v2: ===== Trial 12 / 25 =====\n"
          ]
        },
        {
          "name": "stdout",
          "output_type": "stream",
          "text": [
            "Average Metric: 9.00 / 25 (36.0%): 100%|██████████| 25/25 [00:00<00:00, 385.01it/s]"
          ]
        },
        {
          "name": "stderr",
          "output_type": "stream",
          "text": [
            "2025/05/09 14:34:53 INFO dspy.evaluate.evaluate: Average Metric: 9 / 25 (36.0%)\n"
          ]
        },
        {
          "name": "stdout",
          "output_type": "stream",
          "text": [
            "\n"
          ]
        },
        {
          "name": "stderr",
          "output_type": "stream",
          "text": [
            "2025/05/09 14:34:53 INFO dspy.teleprompt.mipro_optimizer_v2: Score: 36.0 with parameters ['Predictor 0: Instruction 5', 'Predictor 0: Few-Shot Set 8'].\n",
            "2025/05/09 14:34:53 INFO dspy.teleprompt.mipro_optimizer_v2: Scores so far: [40.0, 32.0, 36.0, 44.0, 36.0, 40.0, 36.0, 40.0, 40.0, 44.0, 44.0, 36.0]\n",
            "2025/05/09 14:34:53 INFO dspy.teleprompt.mipro_optimizer_v2: Best score so far: 44.0\n",
            "2025/05/09 14:34:53 INFO dspy.teleprompt.mipro_optimizer_v2: =========================\n",
            "\n",
            "\n",
            "2025/05/09 14:34:53 INFO dspy.teleprompt.mipro_optimizer_v2: ===== Trial 13 / 25 =====\n"
          ]
        },
        {
          "name": "stdout",
          "output_type": "stream",
          "text": [
            "Average Metric: 11.00 / 25 (44.0%): 100%|██████████| 25/25 [00:00<00:00, 399.78it/s]"
          ]
        },
        {
          "name": "stderr",
          "output_type": "stream",
          "text": [
            "2025/05/09 14:34:53 INFO dspy.evaluate.evaluate: Average Metric: 11 / 25 (44.0%)\n"
          ]
        },
        {
          "name": "stdout",
          "output_type": "stream",
          "text": [
            "\n"
          ]
        },
        {
          "name": "stderr",
          "output_type": "stream",
          "text": [
            "2025/05/09 14:34:53 INFO dspy.teleprompt.mipro_optimizer_v2: Score: 44.0 with parameters ['Predictor 0: Instruction 5', 'Predictor 0: Few-Shot Set 4'].\n",
            "2025/05/09 14:34:53 INFO dspy.teleprompt.mipro_optimizer_v2: Scores so far: [40.0, 32.0, 36.0, 44.0, 36.0, 40.0, 36.0, 40.0, 40.0, 44.0, 44.0, 36.0, 44.0]\n",
            "2025/05/09 14:34:53 INFO dspy.teleprompt.mipro_optimizer_v2: Best score so far: 44.0\n",
            "2025/05/09 14:34:53 INFO dspy.teleprompt.mipro_optimizer_v2: =========================\n",
            "\n",
            "\n",
            "2025/05/09 14:34:53 INFO dspy.teleprompt.mipro_optimizer_v2: ===== Trial 14 / 25 =====\n"
          ]
        },
        {
          "name": "stdout",
          "output_type": "stream",
          "text": [
            "Average Metric: 11.00 / 25 (44.0%): 100%|██████████| 25/25 [00:00<00:00, 372.34it/s]"
          ]
        },
        {
          "name": "stderr",
          "output_type": "stream",
          "text": [
            "2025/05/09 14:34:54 INFO dspy.evaluate.evaluate: Average Metric: 11 / 25 (44.0%)\n"
          ]
        },
        {
          "name": "stdout",
          "output_type": "stream",
          "text": [
            "\n"
          ]
        },
        {
          "name": "stderr",
          "output_type": "stream",
          "text": [
            "2025/05/09 14:34:54 INFO dspy.teleprompt.mipro_optimizer_v2: Score: 44.0 with parameters ['Predictor 0: Instruction 9', 'Predictor 0: Few-Shot Set 10'].\n",
            "2025/05/09 14:34:54 INFO dspy.teleprompt.mipro_optimizer_v2: Scores so far: [40.0, 32.0, 36.0, 44.0, 36.0, 40.0, 36.0, 40.0, 40.0, 44.0, 44.0, 36.0, 44.0, 44.0]\n",
            "2025/05/09 14:34:54 INFO dspy.teleprompt.mipro_optimizer_v2: Best score so far: 44.0\n",
            "2025/05/09 14:34:54 INFO dspy.teleprompt.mipro_optimizer_v2: =========================\n",
            "\n",
            "\n",
            "2025/05/09 14:34:54 INFO dspy.teleprompt.mipro_optimizer_v2: ===== Trial 15 / 25 =====\n"
          ]
        },
        {
          "name": "stdout",
          "output_type": "stream",
          "text": [
            "Average Metric: 11.00 / 25 (44.0%): 100%|██████████| 25/25 [00:00<00:00, 318.49it/s]"
          ]
        },
        {
          "name": "stderr",
          "output_type": "stream",
          "text": [
            "2025/05/09 14:34:54 INFO dspy.evaluate.evaluate: Average Metric: 11 / 25 (44.0%)\n"
          ]
        },
        {
          "name": "stdout",
          "output_type": "stream",
          "text": [
            "\n"
          ]
        },
        {
          "name": "stderr",
          "output_type": "stream",
          "text": [
            "2025/05/09 14:34:55 INFO dspy.teleprompt.mipro_optimizer_v2: Score: 44.0 with parameters ['Predictor 0: Instruction 4', 'Predictor 0: Few-Shot Set 4'].\n",
            "2025/05/09 14:34:55 INFO dspy.teleprompt.mipro_optimizer_v2: Scores so far: [40.0, 32.0, 36.0, 44.0, 36.0, 40.0, 36.0, 40.0, 40.0, 44.0, 44.0, 36.0, 44.0, 44.0, 44.0]\n",
            "2025/05/09 14:34:55 INFO dspy.teleprompt.mipro_optimizer_v2: Best score so far: 44.0\n",
            "2025/05/09 14:34:55 INFO dspy.teleprompt.mipro_optimizer_v2: =========================\n",
            "\n",
            "\n",
            "2025/05/09 14:34:55 INFO dspy.teleprompt.mipro_optimizer_v2: ===== Trial 16 / 25 =====\n"
          ]
        },
        {
          "name": "stdout",
          "output_type": "stream",
          "text": [
            "Average Metric: 10.00 / 25 (40.0%): 100%|██████████| 25/25 [00:00<00:00, 319.98it/s]"
          ]
        },
        {
          "name": "stderr",
          "output_type": "stream",
          "text": [
            "2025/05/09 14:34:55 INFO dspy.evaluate.evaluate: Average Metric: 10 / 25 (40.0%)\n"
          ]
        },
        {
          "name": "stdout",
          "output_type": "stream",
          "text": [
            "\n"
          ]
        },
        {
          "name": "stderr",
          "output_type": "stream",
          "text": [
            "2025/05/09 14:34:56 INFO dspy.teleprompt.mipro_optimizer_v2: Score: 40.0 with parameters ['Predictor 0: Instruction 13', 'Predictor 0: Few-Shot Set 3'].\n",
            "2025/05/09 14:34:56 INFO dspy.teleprompt.mipro_optimizer_v2: Scores so far: [40.0, 32.0, 36.0, 44.0, 36.0, 40.0, 36.0, 40.0, 40.0, 44.0, 44.0, 36.0, 44.0, 44.0, 44.0, 40.0]\n",
            "2025/05/09 14:34:56 INFO dspy.teleprompt.mipro_optimizer_v2: Best score so far: 44.0\n",
            "2025/05/09 14:34:56 INFO dspy.teleprompt.mipro_optimizer_v2: =========================\n",
            "\n",
            "\n",
            "2025/05/09 14:34:56 INFO dspy.teleprompt.mipro_optimizer_v2: ===== Trial 17 / 25 =====\n"
          ]
        },
        {
          "name": "stdout",
          "output_type": "stream",
          "text": [
            "Average Metric: 10.00 / 25 (40.0%): 100%|██████████| 25/25 [00:00<00:00, 344.25it/s]"
          ]
        },
        {
          "name": "stderr",
          "output_type": "stream",
          "text": [
            "2025/05/09 14:34:56 INFO dspy.evaluate.evaluate: Average Metric: 10 / 25 (40.0%)\n"
          ]
        },
        {
          "name": "stdout",
          "output_type": "stream",
          "text": [
            "\n"
          ]
        },
        {
          "name": "stderr",
          "output_type": "stream",
          "text": [
            "2025/05/09 14:34:56 INFO dspy.teleprompt.mipro_optimizer_v2: Score: 40.0 with parameters ['Predictor 0: Instruction 16', 'Predictor 0: Few-Shot Set 6'].\n",
            "2025/05/09 14:34:56 INFO dspy.teleprompt.mipro_optimizer_v2: Scores so far: [40.0, 32.0, 36.0, 44.0, 36.0, 40.0, 36.0, 40.0, 40.0, 44.0, 44.0, 36.0, 44.0, 44.0, 44.0, 40.0, 40.0]\n",
            "2025/05/09 14:34:56 INFO dspy.teleprompt.mipro_optimizer_v2: Best score so far: 44.0\n",
            "2025/05/09 14:34:56 INFO dspy.teleprompt.mipro_optimizer_v2: =========================\n",
            "\n",
            "\n",
            "2025/05/09 14:34:56 INFO dspy.teleprompt.mipro_optimizer_v2: ===== Trial 18 / 25 =====\n"
          ]
        },
        {
          "name": "stdout",
          "output_type": "stream",
          "text": [
            "Average Metric: 12.00 / 25 (48.0%): 100%|██████████| 25/25 [00:00<00:00, 367.23it/s]"
          ]
        },
        {
          "name": "stderr",
          "output_type": "stream",
          "text": [
            "2025/05/09 14:34:56 INFO dspy.evaluate.evaluate: Average Metric: 12 / 25 (48.0%)\n"
          ]
        },
        {
          "name": "stdout",
          "output_type": "stream",
          "text": [
            "\n"
          ]
        },
        {
          "name": "stderr",
          "output_type": "stream",
          "text": [
            "2025/05/09 14:34:57 INFO dspy.teleprompt.mipro_optimizer_v2: \u001b[92mBest full score so far!\u001b[0m Score: 48.0\n",
            "2025/05/09 14:34:57 INFO dspy.teleprompt.mipro_optimizer_v2: Score: 48.0 with parameters ['Predictor 0: Instruction 6', 'Predictor 0: Few-Shot Set 14'].\n",
            "2025/05/09 14:34:57 INFO dspy.teleprompt.mipro_optimizer_v2: Scores so far: [40.0, 32.0, 36.0, 44.0, 36.0, 40.0, 36.0, 40.0, 40.0, 44.0, 44.0, 36.0, 44.0, 44.0, 44.0, 40.0, 40.0, 48.0]\n",
            "2025/05/09 14:34:57 INFO dspy.teleprompt.mipro_optimizer_v2: Best score so far: 48.0\n",
            "2025/05/09 14:34:57 INFO dspy.teleprompt.mipro_optimizer_v2: =========================\n",
            "\n",
            "\n",
            "2025/05/09 14:34:57 INFO dspy.teleprompt.mipro_optimizer_v2: ===== Trial 19 / 25 =====\n"
          ]
        },
        {
          "name": "stdout",
          "output_type": "stream",
          "text": [
            "Average Metric: 10.00 / 25 (40.0%): 100%|██████████| 25/25 [00:00<00:00, 370.02it/s]"
          ]
        },
        {
          "name": "stderr",
          "output_type": "stream",
          "text": [
            "2025/05/09 14:34:57 INFO dspy.evaluate.evaluate: Average Metric: 10 / 25 (40.0%)\n"
          ]
        },
        {
          "name": "stdout",
          "output_type": "stream",
          "text": [
            "\n"
          ]
        },
        {
          "name": "stderr",
          "output_type": "stream",
          "text": [
            "2025/05/09 14:34:57 INFO dspy.teleprompt.mipro_optimizer_v2: Score: 40.0 with parameters ['Predictor 0: Instruction 1', 'Predictor 0: Few-Shot Set 14'].\n",
            "2025/05/09 14:34:57 INFO dspy.teleprompt.mipro_optimizer_v2: Scores so far: [40.0, 32.0, 36.0, 44.0, 36.0, 40.0, 36.0, 40.0, 40.0, 44.0, 44.0, 36.0, 44.0, 44.0, 44.0, 40.0, 40.0, 48.0, 40.0]\n",
            "2025/05/09 14:34:57 INFO dspy.teleprompt.mipro_optimizer_v2: Best score so far: 48.0\n",
            "2025/05/09 14:34:57 INFO dspy.teleprompt.mipro_optimizer_v2: =========================\n",
            "\n",
            "\n",
            "2025/05/09 14:34:57 INFO dspy.teleprompt.mipro_optimizer_v2: ===== Trial 20 / 25 =====\n"
          ]
        },
        {
          "name": "stdout",
          "output_type": "stream",
          "text": [
            "Average Metric: 12.00 / 25 (48.0%): 100%|██████████| 25/25 [00:00<00:00, 399.46it/s]"
          ]
        },
        {
          "name": "stderr",
          "output_type": "stream",
          "text": [
            "2025/05/09 14:34:57 INFO dspy.evaluate.evaluate: Average Metric: 12 / 25 (48.0%)\n"
          ]
        },
        {
          "name": "stdout",
          "output_type": "stream",
          "text": [
            "\n"
          ]
        },
        {
          "name": "stderr",
          "output_type": "stream",
          "text": [
            "2025/05/09 14:34:58 INFO dspy.teleprompt.mipro_optimizer_v2: Score: 48.0 with parameters ['Predictor 0: Instruction 6', 'Predictor 0: Few-Shot Set 14'].\n",
            "2025/05/09 14:34:58 INFO dspy.teleprompt.mipro_optimizer_v2: Scores so far: [40.0, 32.0, 36.0, 44.0, 36.0, 40.0, 36.0, 40.0, 40.0, 44.0, 44.0, 36.0, 44.0, 44.0, 44.0, 40.0, 40.0, 48.0, 40.0, 48.0]\n",
            "2025/05/09 14:34:58 INFO dspy.teleprompt.mipro_optimizer_v2: Best score so far: 48.0\n",
            "2025/05/09 14:34:58 INFO dspy.teleprompt.mipro_optimizer_v2: =========================\n",
            "\n",
            "\n",
            "2025/05/09 14:34:58 INFO dspy.teleprompt.mipro_optimizer_v2: ===== Trial 21 / 25 =====\n"
          ]
        },
        {
          "name": "stdout",
          "output_type": "stream",
          "text": [
            "Average Metric: 10.00 / 25 (40.0%): 100%|██████████| 25/25 [00:00<00:00, 363.16it/s]"
          ]
        },
        {
          "name": "stderr",
          "output_type": "stream",
          "text": [
            "2025/05/09 14:34:58 INFO dspy.evaluate.evaluate: Average Metric: 10 / 25 (40.0%)\n"
          ]
        },
        {
          "name": "stdout",
          "output_type": "stream",
          "text": [
            "\n"
          ]
        },
        {
          "name": "stderr",
          "output_type": "stream",
          "text": [
            "2025/05/09 14:34:58 INFO dspy.teleprompt.mipro_optimizer_v2: Score: 40.0 with parameters ['Predictor 0: Instruction 9', 'Predictor 0: Few-Shot Set 14'].\n",
            "2025/05/09 14:34:58 INFO dspy.teleprompt.mipro_optimizer_v2: Scores so far: [40.0, 32.0, 36.0, 44.0, 36.0, 40.0, 36.0, 40.0, 40.0, 44.0, 44.0, 36.0, 44.0, 44.0, 44.0, 40.0, 40.0, 48.0, 40.0, 48.0, 40.0]\n",
            "2025/05/09 14:34:58 INFO dspy.teleprompt.mipro_optimizer_v2: Best score so far: 48.0\n",
            "2025/05/09 14:34:58 INFO dspy.teleprompt.mipro_optimizer_v2: =========================\n",
            "\n",
            "\n",
            "2025/05/09 14:34:58 INFO dspy.teleprompt.mipro_optimizer_v2: ===== Trial 22 / 25 =====\n"
          ]
        },
        {
          "name": "stdout",
          "output_type": "stream",
          "text": [
            "Average Metric: 11.00 / 25 (44.0%): 100%|██████████| 25/25 [00:00<00:00, 409.33it/s]"
          ]
        },
        {
          "name": "stderr",
          "output_type": "stream",
          "text": [
            "2025/05/09 14:34:58 INFO dspy.evaluate.evaluate: Average Metric: 11 / 25 (44.0%)\n"
          ]
        },
        {
          "name": "stdout",
          "output_type": "stream",
          "text": [
            "\n"
          ]
        },
        {
          "name": "stderr",
          "output_type": "stream",
          "text": [
            "2025/05/09 14:34:59 INFO dspy.teleprompt.mipro_optimizer_v2: Score: 44.0 with parameters ['Predictor 0: Instruction 17', 'Predictor 0: Few-Shot Set 14'].\n",
            "2025/05/09 14:34:59 INFO dspy.teleprompt.mipro_optimizer_v2: Scores so far: [40.0, 32.0, 36.0, 44.0, 36.0, 40.0, 36.0, 40.0, 40.0, 44.0, 44.0, 36.0, 44.0, 44.0, 44.0, 40.0, 40.0, 48.0, 40.0, 48.0, 40.0, 44.0]\n",
            "2025/05/09 14:34:59 INFO dspy.teleprompt.mipro_optimizer_v2: Best score so far: 48.0\n",
            "2025/05/09 14:34:59 INFO dspy.teleprompt.mipro_optimizer_v2: =========================\n",
            "\n",
            "\n",
            "2025/05/09 14:34:59 INFO dspy.teleprompt.mipro_optimizer_v2: ===== Trial 23 / 25 =====\n"
          ]
        },
        {
          "name": "stdout",
          "output_type": "stream",
          "text": [
            "Average Metric: 12.00 / 25 (48.0%): 100%|██████████| 25/25 [00:00<00:00, 379.15it/s]"
          ]
        },
        {
          "name": "stderr",
          "output_type": "stream",
          "text": [
            "2025/05/09 14:34:59 INFO dspy.evaluate.evaluate: Average Metric: 12 / 25 (48.0%)\n"
          ]
        },
        {
          "name": "stdout",
          "output_type": "stream",
          "text": [
            "\n"
          ]
        },
        {
          "name": "stderr",
          "output_type": "stream",
          "text": [
            "2025/05/09 14:34:59 INFO dspy.teleprompt.mipro_optimizer_v2: Score: 48.0 with parameters ['Predictor 0: Instruction 6', 'Predictor 0: Few-Shot Set 14'].\n",
            "2025/05/09 14:34:59 INFO dspy.teleprompt.mipro_optimizer_v2: Scores so far: [40.0, 32.0, 36.0, 44.0, 36.0, 40.0, 36.0, 40.0, 40.0, 44.0, 44.0, 36.0, 44.0, 44.0, 44.0, 40.0, 40.0, 48.0, 40.0, 48.0, 40.0, 44.0, 48.0]\n",
            "2025/05/09 14:34:59 INFO dspy.teleprompt.mipro_optimizer_v2: Best score so far: 48.0\n",
            "2025/05/09 14:34:59 INFO dspy.teleprompt.mipro_optimizer_v2: =========================\n",
            "\n",
            "\n",
            "2025/05/09 14:34:59 INFO dspy.teleprompt.mipro_optimizer_v2: ===== Trial 24 / 25 =====\n"
          ]
        },
        {
          "name": "stdout",
          "output_type": "stream",
          "text": [
            "Average Metric: 12.00 / 25 (48.0%): 100%|██████████| 25/25 [00:00<00:00, 390.89it/s]"
          ]
        },
        {
          "name": "stderr",
          "output_type": "stream",
          "text": [
            "2025/05/09 14:35:00 INFO dspy.evaluate.evaluate: Average Metric: 12 / 25 (48.0%)\n"
          ]
        },
        {
          "name": "stdout",
          "output_type": "stream",
          "text": [
            "\n"
          ]
        },
        {
          "name": "stderr",
          "output_type": "stream",
          "text": [
            "2025/05/09 14:35:00 INFO dspy.teleprompt.mipro_optimizer_v2: Score: 48.0 with parameters ['Predictor 0: Instruction 6', 'Predictor 0: Few-Shot Set 14'].\n",
            "2025/05/09 14:35:00 INFO dspy.teleprompt.mipro_optimizer_v2: Scores so far: [40.0, 32.0, 36.0, 44.0, 36.0, 40.0, 36.0, 40.0, 40.0, 44.0, 44.0, 36.0, 44.0, 44.0, 44.0, 40.0, 40.0, 48.0, 40.0, 48.0, 40.0, 44.0, 48.0, 48.0]\n",
            "2025/05/09 14:35:00 INFO dspy.teleprompt.mipro_optimizer_v2: Best score so far: 48.0\n",
            "2025/05/09 14:35:00 INFO dspy.teleprompt.mipro_optimizer_v2: =========================\n",
            "\n",
            "\n",
            "2025/05/09 14:35:00 INFO dspy.teleprompt.mipro_optimizer_v2: ===== Trial 25 / 25 =====\n"
          ]
        },
        {
          "name": "stdout",
          "output_type": "stream",
          "text": [
            "Average Metric: 10.00 / 25 (40.0%): 100%|██████████| 25/25 [00:00<00:00, 412.88it/s]"
          ]
        },
        {
          "name": "stderr",
          "output_type": "stream",
          "text": [
            "2025/05/09 14:35:00 INFO dspy.evaluate.evaluate: Average Metric: 10 / 25 (40.0%)\n"
          ]
        },
        {
          "name": "stdout",
          "output_type": "stream",
          "text": [
            "\n"
          ]
        },
        {
          "name": "stderr",
          "output_type": "stream",
          "text": [
            "2025/05/09 14:35:01 INFO dspy.teleprompt.mipro_optimizer_v2: Score: 40.0 with parameters ['Predictor 0: Instruction 6', 'Predictor 0: Few-Shot Set 15'].\n",
            "2025/05/09 14:35:01 INFO dspy.teleprompt.mipro_optimizer_v2: Scores so far: [40.0, 32.0, 36.0, 44.0, 36.0, 40.0, 36.0, 40.0, 40.0, 44.0, 44.0, 36.0, 44.0, 44.0, 44.0, 40.0, 40.0, 48.0, 40.0, 48.0, 40.0, 44.0, 48.0, 48.0, 40.0]\n",
            "2025/05/09 14:35:01 INFO dspy.teleprompt.mipro_optimizer_v2: Best score so far: 48.0\n",
            "2025/05/09 14:35:01 INFO dspy.teleprompt.mipro_optimizer_v2: =========================\n",
            "\n",
            "\n",
            "2025/05/09 14:35:01 INFO dspy.teleprompt.mipro_optimizer_v2: ===== Trial 26 / 25 =====\n"
          ]
        },
        {
          "name": "stdout",
          "output_type": "stream",
          "text": [
            "Average Metric: 9.00 / 25 (36.0%): 100%|██████████| 25/25 [00:00<00:00, 377.49it/s]"
          ]
        },
        {
          "name": "stderr",
          "output_type": "stream",
          "text": [
            "2025/05/09 14:35:01 INFO dspy.evaluate.evaluate: Average Metric: 9 / 25 (36.0%)\n"
          ]
        },
        {
          "name": "stdout",
          "output_type": "stream",
          "text": [
            "\n"
          ]
        },
        {
          "name": "stderr",
          "output_type": "stream",
          "text": [
            "2025/05/09 14:35:01 INFO dspy.teleprompt.mipro_optimizer_v2: Score: 36.0 with parameters ['Predictor 0: Instruction 6', 'Predictor 0: Few-Shot Set 17'].\n",
            "2025/05/09 14:35:01 INFO dspy.teleprompt.mipro_optimizer_v2: Scores so far: [40.0, 32.0, 36.0, 44.0, 36.0, 40.0, 36.0, 40.0, 40.0, 44.0, 44.0, 36.0, 44.0, 44.0, 44.0, 40.0, 40.0, 48.0, 40.0, 48.0, 40.0, 44.0, 48.0, 48.0, 40.0, 36.0]\n",
            "2025/05/09 14:35:01 INFO dspy.teleprompt.mipro_optimizer_v2: Best score so far: 48.0\n",
            "2025/05/09 14:35:01 INFO dspy.teleprompt.mipro_optimizer_v2: =========================\n",
            "\n",
            "\n",
            "2025/05/09 14:35:01 INFO dspy.teleprompt.mipro_optimizer_v2: Returning best identified program with score 48.0!\n"
          ]
        },
        {
          "ename": "",
          "evalue": "",
          "output_type": "error",
          "traceback": [
            "\u001b[1;31mThe Kernel crashed while executing code in the current cell or a previous cell. \n",
            "\u001b[1;31mPlease review the code in the cell(s) to identify a possible cause of the failure. \n",
            "\u001b[1;31mClick <a href='https://aka.ms/vscodeJupyterKernelCrash'>here</a> for more info. \n",
            "\u001b[1;31mView Jupyter <a href='command:jupyter.viewOutput'>log</a> for further details."
          ]
        }
      ],
      "source": [
        "from dspy.teleprompt import MIPROv2\n",
        "import dspy.evaluate\n",
        "\n",
        "# Define our metric validation\n",
        "def validate_context_and_answer(example, pred, trace=None):\n",
        "    answer_EM = dspy.evaluate.answer_exact_match(example, pred)\n",
        "    answer_PM = dspy.evaluate.answer_passage_match(example, pred)\n",
        "    return answer_EM and answer_PM\n",
        "\n",
        "# Set up a MIPROv2 optimizer, which will compile our RAG program.\n",
        "optimizer = MIPROv2(metric=validate_context_and_answer, prompt_model=llm, task_model=llm, num_candidates=2, init_temperature=0.7)\n",
        "\n",
        "# Initialize langwatch for this run, to track the optimizer compilation\n",
        "langwatch.dspy.init(experiment=\"my-awesome-experiment\", optimizer=optimizer)\n",
        "\n",
        "# Compile\n",
        "compiled_rag = optimizer.compile( RAG(),\n",
        "    trainset=trainset,\n",
        "    num_trials=10,\n",
        "    max_bootstrapped_demos=3,\n",
        "    max_labeled_demos=5,\n",
        ")"
      ]
    },
    {
      "cell_type": "code",
      "execution_count": 11,
      "metadata": {},
      "outputs": [
        {
          "data": {
            "text/plain": [
              "generate_answer.predict = Predict(StringSignature(context, question -> reasoning, answer\n",
              "    instructions='Given the context and the question, generate a reasoned answer that is concise and factually correct, ensuring it consists of no more than 5 words.'\n",
              "    context = Field(annotation=str required=True json_schema_extra={'desc': 'may contain relevant facts', '__dspy_field_type': 'input', 'prefix': 'Context:'})\n",
              "    question = Field(annotation=str required=True json_schema_extra={'__dspy_field_type': 'input', 'prefix': 'Question:', 'desc': '${question}'})\n",
              "    reasoning = Field(annotation=str required=True json_schema_extra={'prefix': \"Reasoning: Let's think step by step in order to\", 'desc': '${reasoning}', '__dspy_field_type': 'output'})\n",
              "    answer = Field(annotation=str required=True json_schema_extra={'desc': 'often between 1 and 5 words', '__dspy_field_type': 'output', 'prefix': 'Answer:'})\n",
              "))"
            ]
          },
          "execution_count": 11,
          "metadata": {},
          "output_type": "execute_result"
        }
      ],
      "source": [
        "compiled_rag"
      ]
    },
    {
      "cell_type": "code",
      "execution_count": null,
      "metadata": {
        "id": "u5vA80_JJX-q"
      },
      "outputs": [],
      "source": [
        "compiled_rag.save(\"optimized_model.json\")"
      ]
    }
  ],
  "metadata": {
    "colab": {
      "provenance": [],
      "toc_visible": true
    },
    "kernelspec": {
      "display_name": ".venv",
      "language": "python",
      "name": "python3"
    },
    "language_info": {
      "codemirror_mode": {
        "name": "ipython",
        "version": 3
      },
      "file_extension": ".py",
      "mimetype": "text/x-python",
      "name": "python",
      "nbconvert_exporter": "python",
      "pygments_lexer": "ipython3",
      "version": "3.12.0"
    }
  },
  "nbformat": 4,
  "nbformat_minor": 0
}
